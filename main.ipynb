{
 "cells": [
  {
   "cell_type": "code",
   "execution_count": 1,
   "metadata": {},
   "outputs": [],
   "source": [
    "from typing import Sequence\n",
    "\n",
    "import jax.numpy as np\n",
    "import jax\n",
    "import jax.numpy as jnp\n",
    "import flax.linen as nn\n",
    "import tensorflow"
   ]
  },
  {
   "cell_type": "code",
   "execution_count": 2,
   "metadata": {},
   "outputs": [
    {
     "name": "stderr",
     "output_type": "stream",
     "text": [
      "c:\\Users\\nguye\\AppData\\Local\\Programs\\Python\\Python312\\Lib\\site-packages\\tqdm\\auto.py:21: TqdmWarning: IProgress not found. Please update jupyter and ipywidgets. See https://ipywidgets.readthedocs.io/en/stable/user_install.html\n",
      "  from .autonotebook import tqdm as notebook_tqdm\n"
     ]
    }
   ],
   "source": [
    "from datasets import load_dataset\n",
    "import keras\n",
    "import tensorflow as tf\n",
    "# from torch import Tensor\n",
    "# import torch\n",
    "# import torch.nn as nn\n",
    "# from torch.nn import Transformer\n",
    "import math\n",
    "import os\n",
    "\n",
    "from tokenizers import Tokenizer\n",
    "from tokenizers.models import WordLevel\n",
    "from tokenizers.trainers import WordLevelTrainer\n",
    "from tokenizers.pre_tokenizers import Whitespace\n",
    "\n",
    "# DEVICE = keras.device('cuda' if torch.cuda.is_available() else 'cpu')"
   ]
  },
  {
   "cell_type": "code",
   "execution_count": null,
   "metadata": {},
   "outputs": [],
   "source": [
    "from flax.training import checkpoints\n",
    "from flax.training import common_utils\n",
    "from flax.training import dynamic_scale as dynamic_scale_lib\n",
    "from flax.training import train_state\n",
    "import optax\n",
    "class TrainState(train_state.TrainState):\n",
    "  dynamic_scale: dynamic_scale_lib.DynamicScale"
   ]
  },
  {
   "cell_type": "markdown",
   "metadata": {},
   "source": [
    "## 1. Load data"
   ]
  },
  {
   "cell_type": "code",
   "execution_count": 3,
   "metadata": {},
   "outputs": [],
   "source": [
    "train_ds, val_ds, test_ds=load_dataset('Helsinki-NLP/opus_books','en-hu',split=[\n",
    "    'train[:80%]','train[80%:-10%]','train[-10%:]'])"
   ]
  },
  {
   "cell_type": "code",
   "execution_count": 4,
   "metadata": {},
   "outputs": [],
   "source": [
    "def get_all_sentences(ds, lang):\n",
    "    for item in ds:\n",
    "        yield item['translation'][lang]\n",
    "        \n",
    "UNK_IDX, PAD_IDX, BOS_IDX, EOS_IDX = 0, 1, 2, 3\n",
    "def get_tokenizer(ds,lang,path_tokenizer=''):\n",
    "    if os.path.isfile(path_tokenizer) and path_tokenizer:\n",
    "        tokenizer = Tokenizer.from_file(path_tokenizer)\n",
    "    else:\n",
    "        tokenizer = Tokenizer(WordLevel(unk_token=\"[UNK]\"))\n",
    "        tokenizer.pre_tokenizer = Whitespace()\n",
    "        trainer = WordLevelTrainer(special_tokens=[\"[UNK]\", \"[PAD]\", \"[BOS]\", \"[EOS]\"], min_frequency=2)\n",
    "        tokenizer.train_from_iterator(get_all_sentences(ds, lang), trainer=trainer)\n",
    "        # tokenizer.save(config['tokenizer_file'])\n",
    "    return tokenizer"
   ]
  },
  {
   "cell_type": "code",
   "execution_count": 6,
   "metadata": {},
   "outputs": [],
   "source": [
    "tokenizer={}\n",
    "tokenizer['en']=get_tokenizer(train_ds,'en')\n",
    "tokenizer['hu']=get_tokenizer(train_ds,'hu')"
   ]
  },
  {
   "cell_type": "markdown",
   "metadata": {},
   "source": [
    "## 2. Build model"
   ]
  },
  {
   "cell_type": "code",
   "execution_count": null,
   "metadata": {},
   "outputs": [],
   "source": [
    "class PositionalEncoding(nn.Module):\n",
    "    def __init__(self,emb_size: int,dropout: float,maxlen: int = 5000):\n",
    "        super(PositionalEncoding, self).__init__()\n",
    "        den = np.exp(- np.arange(0, emb_size, 2)* math.log(10000) / emb_size)\n",
    "        pos = np.arange(0, maxlen).reshape(maxlen, 1)\n",
    "        pos_embedding = np.zeros((maxlen, emb_size))\n",
    "        pos_embedding[:, 0::2] = np.sin(pos * den)\n",
    "        pos_embedding[:, 1::2] = np.cos(pos * den)\n",
    "        pos_embedding = pos_embedding.unsqueeze(-2)\n",
    "\n",
    "        self.dropout = nn.Dropout(dropout)\n",
    "        self.register_buffer('pos_embedding', pos_embedding)\n",
    "\n",
    "    def forward(self, token_embedding):\n",
    "        return self.dropout(token_embedding + self.pos_embedding[:token_embedding.size(0), :])\n",
    "\n",
    "class TokenEmbedding(nn.Module):\n",
    "    def __init__(self, vocab_size: int, emb_size):\n",
    "        super(TokenEmbedding, self).__init__()\n",
    "        self.embedding = nn.Embed(vocab_size, emb_size)\n",
    "        self.emb_size = emb_size\n",
    "\n",
    "    def forward(self, tokens):\n",
    "        return self.embedding(tokens.long()) * np.sqrt(self.emb_size)\n",
    "\n",
    "class Seq2SeqTransformer(nn.Module):\n",
    "    def __init__(self,\n",
    "                 num_encoder_layers: int,\n",
    "                 num_decoder_layers: int,\n",
    "                 emb_size: int,\n",
    "                 nhead: int,\n",
    "                 src_vocab_size: int,\n",
    "                 tgt_vocab_size: int,\n",
    "                 dim_feedforward: int = 512,\n",
    "                 dropout: float = 0.1):\n",
    "        super(Seq2SeqTransformer, self).__init__()\n",
    "        self.transformer = keras.layers.Transformer(d_model=emb_size,\n",
    "                                       nhead=nhead,\n",
    "                                       num_encoder_layers=num_encoder_layers,\n",
    "                                       num_decoder_layers=num_decoder_layers,\n",
    "                                       dim_feedforward=dim_feedforward,\n",
    "                                       dropout=dropout)\n",
    "        self.generator = nn.Linear(emb_size, tgt_vocab_size)\n",
    "        self.src_tok_emb = TokenEmbedding(src_vocab_size, emb_size)\n",
    "        self.tgt_tok_emb = TokenEmbedding(tgt_vocab_size, emb_size)\n",
    "        self.positional_encoding = PositionalEncoding(\n",
    "            emb_size, dropout=dropout)\n",
    "\n",
    "    def forward(self,\n",
    "                src: np.ndarray,\n",
    "                trg: np.ndarray,\n",
    "                src_mask: np.ndarray,\n",
    "                tgt_mask: np.ndarray,\n",
    "                src_padding_mask: np.ndarray,\n",
    "                tgt_padding_mask: np.ndarray,\n",
    "                memory_key_padding_mask: np.ndarray):\n",
    "        src_emb = self.positional_encoding(self.src_tok_emb(src))\n",
    "        tgt_emb = self.positional_encoding(self.tgt_tok_emb(trg))\n",
    "        outs = self.transformer(src_emb, tgt_emb, src_mask, tgt_mask, None,\n",
    "                                src_padding_mask, tgt_padding_mask, memory_key_padding_mask)\n",
    "        return self.generator(outs)\n",
    "\n",
    "    def encode(self, src: np.ndarray, src_mask: np.ndarray):\n",
    "        return self.transformer.encoder(self.positional_encoding(\n",
    "                            self.src_tok_emb(src)), src_mask)\n",
    "\n",
    "    def decode(self, tgt: np.ndarray, memory: np.ndarray, tgt_mask: np.ndarray):\n",
    "        return self.transformer.decoder(self.positional_encoding(\n",
    "                          self.tgt_tok_emb(tgt)), memory,\n",
    "                          tgt_mask)"
   ]
  },
  {
   "cell_type": "code",
   "execution_count": 77,
   "metadata": {},
   "outputs": [],
   "source": [
    "def generate_square_subsequent_mask(sz):\n",
    "    mask = (np.triu(np.ones((sz, sz))) == 1).transpose(0, 1)\n",
    "    \n",
    "    mask=mask.astype(float)\n",
    "    mask=np.where(mask == 0,-np.inf,mask)\n",
    "    mask= np.where(mask==1,float(0.0),mask)\n",
    "\n",
    "    # mask = mask.float().masked_fill(mask == 0, float('-inf')).masked_fill(mask == 1, float(0.0))\n",
    "    return mask\n",
    "\n",
    "\n",
    "def create_mask(src, tgt):\n",
    "    src_seq_len = src.shape[0]\n",
    "    tgt_seq_len = tgt.shape[0]\n",
    "\n",
    "    tgt_mask = generate_square_subsequent_mask(tgt_seq_len)\n",
    "    src_mask = np.zeros((src_seq_len, src_seq_len)).astype(bool)\n",
    "\n",
    "    src_padding_mask = (src == PAD_IDX).T\n",
    "    tgt_padding_mask = (tgt == PAD_IDX).T\n",
    "    return src_mask, tgt_mask, src_padding_mask, tgt_padding_mask"
   ]
  },
  {
   "cell_type": "markdown",
   "metadata": {},
   "source": [
    "## 3. Initialize parameters and model"
   ]
  },
  {
   "cell_type": "code",
   "execution_count": 7,
   "metadata": {},
   "outputs": [],
   "source": [
    "\n",
    "SRC_VOCAB_SIZE = tokenizer['en'].get_vocab_size()\n",
    "TGT_VOCAB_SIZE = tokenizer['hu'].get_vocab_size()\n",
    "EMB_SIZE = 128 #512\n",
    "NHEAD = 8\n",
    "FFN_HID_DIM = 128 #512\n",
    "BATCH_SIZE = 128\n",
    "# BATCH_SIZE = 64\n",
    "NUM_ENCODER_LAYERS = 3\n",
    "NUM_DECODER_LAYERS = 3\n",
    "\n",
    "transformer = Seq2SeqTransformer(NUM_ENCODER_LAYERS, NUM_DECODER_LAYERS, EMB_SIZE,\n",
    "                                 NHEAD, SRC_VOCAB_SIZE, TGT_VOCAB_SIZE, FFN_HID_DIM)\n",
    "\n",
    "# initial_variables = jax.jit(transformer.init)(\n",
    "#       init_rng,\n",
    "#       jnp.ones(input_shape, jnp.float32),\n",
    "#       jnp.ones(target_shape, jnp.float32),\n",
    "#   )\n",
    "start_step = 0\n",
    "rng = jax.random.key(2)\n",
    "rng, init_rng = jax.random.split(rng)\n",
    "input_shape = (BATCH_SIZE, EMB_SIZE)\n",
    "target_shape = (BATCH_SIZE, EMB_SIZE)\n",
    "\n",
    "\n",
    "initial_variables = jax.jit(transformer.init)(\n",
    "    init_rng,\n",
    "    jnp.ones(input_shape, jnp.float32),\n",
    "    jnp.ones(target_shape, jnp.float32),\n",
    ")\n",
    "\n",
    "# for p in transformer.parameters():\n",
    "#     if p.dim() > 1:\n",
    "#         nn.init.xavier_uniform_(p)\n",
    "\n",
    "# transformer = transformer.to(DEVICE)\n",
    "\n",
    "# loss_fn = nn.CrossEntropyLoss(ignore_index=PAD_IDX)\n",
    "\n",
    "# optimizer = torch.optim.Adam(transformer.parameters(), lr=0.0001, betas=(0.9, 0.98), eps=1e-9)"
   ]
  },
  {
   "cell_type": "markdown",
   "metadata": {},
   "source": [
    "## 4. Train model"
   ]
  },
  {
   "cell_type": "code",
   "execution_count": 40,
   "metadata": {},
   "outputs": [],
   "source": [
    "def tensor_transform(token_ids):\n",
    "    return tf.concat([[BOS_IDX],token_ids.ids,[EOS_IDX]],0)\n",
    "\n",
    "# def collate_fn(batch):\n",
    "#     src_batch, tgt_batch = [], []\n",
    "#     for sample in batch:\n",
    "#         src_batch.append(tensor_transform(tokenizer['en'].encode(sample['en'].rstrip(\"\\n\"))))\n",
    "#         tgt_batch.append(tensor_transform(tokenizer['hu'].encode(sample['hu'].rstrip(\"\\n\"))))\n",
    "\n",
    "#     src_batch = pad_sequence(src_batch, padding_value=PAD_IDX)\n",
    "#     tgt_batch = pad_sequence(tgt_batch, padding_value=PAD_IDX)\n",
    "#     return src_batch, tgt_batch"
   ]
  },
  {
   "cell_type": "code",
   "execution_count": 49,
   "metadata": {},
   "outputs": [],
   "source": [
    "def get_ds(data_raw):\n",
    "  src, tgt = [], []\n",
    "\n",
    "  for sample in data_raw:\n",
    "      src.append(tensor_transform(tokenizer['en'].encode(sample['en'].rstrip(\"\\n\"))))\n",
    "      tgt.append(tensor_transform(tokenizer['hu'].encode(sample['hu'].rstrip(\"\\n\"))))\n",
    "\n",
    "  \n",
    "  src = keras.utils.pad_sequences(src, padding='post',value=PAD_IDX,maxlen=EMB_SIZE)\n",
    "  tgt = keras.utils.pad_sequences(tgt, padding='post',value=PAD_IDX,maxlen=EMB_SIZE)\n",
    "\n",
    "  return src,tgt\n",
    "  return [(src[i],tgt[i])for i in range(len(src))]"
   ]
  },
  {
   "cell_type": "code",
   "execution_count": 79,
   "metadata": {},
   "outputs": [
    {
     "name": "stdout",
     "output_type": "stream",
     "text": [
      "[[    2  8077    75 ...     1     1     1]\n",
      " [    2 13466     7 ...     1     1     1]\n",
      " [    2   440     0 ...     1     1     1]\n",
      " ...\n",
      " [    2    14  8350 ...     1     1     1]\n",
      " [    2    14   417 ...     1     1     1]\n",
      " [    2     0     4 ...     1     1     1]] (109721, 128)\n"
     ]
    }
   ],
   "source": [
    "dataset = tf.data.Dataset.from_tensor_slices(get_ds(train_ds['translation']))"
   ]
  },
  {
   "cell_type": "code",
   "execution_count": 80,
   "metadata": {},
   "outputs": [],
   "source": [
    "# Shuffle and batch the dataset\n",
    "batch_size = 32\n",
    "buffer_size = 1000  # Buffer size for shuffling\n",
    "dataset = dataset.shuffle(buffer_size).batch(batch_size)\n",
    "\n",
    "# Optionally, prefetch data for improved performance\n",
    "dataset = dataset.prefetch(tf.data.experimental.AUTOTUNE)"
   ]
  },
  {
   "cell_type": "code",
   "execution_count": null,
   "metadata": {},
   "outputs": [],
   "source": [
    "@jax.jit\n",
    "def train_step(\n",
    "    state: train_state.TrainState, batch: jnp.ndarray,learning_rate_fn,label_smoothing=0.0,dropout_rng=None,\n",
    "):\n",
    "    inputs,targets = batch\n",
    "\n",
    "\n",
    "    def loss_fn(params):\n",
    "        logits = state.apply_fn({'params': params}, image)\n",
    "        loss = cross_entropy_loss(logits=logits, labels=label)\n",
    "        return loss, logits\n",
    "\n",
    "\n",
    "    gradient_fn = jax.value_and_grad(loss_fn, has_aux=True)\n",
    "    (_, logits), grads = gradient_fn(state.params)\n",
    "    state = state.apply_gradients(grads=grads)\n",
    "    metrics = compute_metrics(logits=logits, labels=label)\n",
    "    return state, metrics\n"
   ]
  },
  {
   "cell_type": "code",
   "execution_count": null,
   "metadata": {},
   "outputs": [],
   "source": [
    "def train_and_evaluate(train_dataset, eval_dataset, test_dataset, state, epochs):\n",
    "    num_train_batches = tf.data.experimental.cardinality(train_dataset)\n",
    "    num_eval_batches = tf.data.experimental.cardinality(eval_dataset)\n",
    "    num_test_batches = tf.data.experimental.cardinality(test_dataset)\n",
    "   \n",
    "    for epoch in tqdm(range(1, epochs + 1)):\n",
    "        best_eval_loss = 1e6\n",
    "\n",
    "        # ============== Training ============== #\n",
    "        train_batch_metrics = []\n",
    "        train_datagen = iter(tfds.as_numpy(train_dataset))\n",
    "        for batch_idx in range(num_train_batches):\n",
    "            batch = next(train_datagen)\n",
    "            state, metrics = train_step(state, batch)\n",
    "            train_batch_metrics.append(metrics)\n",
    "        train_batch_metrics = accumulate_metrics(train_batch_metrics)\n",
    "\n",
    "\n",
    "\n",
    "\n",
    "        # ============== Validation ============= #\n",
    "        eval_batch_metrics = []\n",
    "        eval_datagen = iter(tfds.as_numpy(eval_dataset))\n",
    "        for batch_idx in range(num_eval_batches):\n",
    "            batch = next(eval_datagen)\n",
    "            metrics = eval_step(state, batch)\n",
    "            eval_batch_metrics.append(metrics)\n",
    "        eval_batch_metrics = accumulate_metrics(eval_batch_metrics)\n",
    "\n",
    "\n",
    "        # Log Metrics to Weights & Biases\n",
    "        wandb.log({\n",
    "            \"Train Loss\": train_batch_metrics['loss'],\n",
    "            \"Train Accuracy\": train_batch_metrics['accuracy'],\n",
    "            \"Validation Loss\": eval_batch_metrics['loss'],\n",
    "            \"Validation Accuracy\": eval_batch_metrics['accuracy']\n",
    "        }, step=epoch)\n",
    "\n",
    "\n",
    "    return state"
   ]
  }
 ],
 "metadata": {
  "kernelspec": {
   "display_name": "Python 3",
   "language": "python",
   "name": "python3"
  },
  "language_info": {
   "codemirror_mode": {
    "name": "ipython",
    "version": 3
   },
   "file_extension": ".py",
   "mimetype": "text/x-python",
   "name": "python",
   "nbconvert_exporter": "python",
   "pygments_lexer": "ipython3",
   "version": "3.12.0"
  }
 },
 "nbformat": 4,
 "nbformat_minor": 2
}
